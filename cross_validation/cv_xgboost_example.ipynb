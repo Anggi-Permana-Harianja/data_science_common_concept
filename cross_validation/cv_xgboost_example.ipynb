{
 "cells": [
  {
   "cell_type": "code",
   "execution_count": 76,
   "id": "cd212b3e-74f9-476f-b72b-86da6718fec8",
   "metadata": {},
   "outputs": [],
   "source": [
    "from xgboost import XGBRFClassifier as xgbclassifier\n",
    "\n",
    "import pandas as pd\n",
    "import numpy as np\n",
    "\n",
    "from sklearn.metrics import roc_auc_score\n",
    "from sklearn.model_selection import train_test_split\n",
    "from sklearn.model_selection import StratifiedKFold\n",
    "from sklearn.model_selection import cross_val_score\n",
    "from sklearn.model_selection import cross_val_predict\n",
    "from sklearn.model_selection import cross_validate\n",
    "\n",
    "from matplotlib import pyplot as plt\n",
    "%matplotlib inline\n",
    "\n",
    "import warnings\n",
    "warnings.filterwarnings('ignore')"
   ]
  },
  {
   "cell_type": "code",
   "execution_count": 34,
   "id": "71496bf3-d013-4fce-b1ec-40665000af7c",
   "metadata": {},
   "outputs": [
    {
     "data": {
      "text/html": [
       "<div>\n",
       "<style scoped>\n",
       "    .dataframe tbody tr th:only-of-type {\n",
       "        vertical-align: middle;\n",
       "    }\n",
       "\n",
       "    .dataframe tbody tr th {\n",
       "        vertical-align: top;\n",
       "    }\n",
       "\n",
       "    .dataframe thead th {\n",
       "        text-align: right;\n",
       "    }\n",
       "</style>\n",
       "<table border=\"1\" class=\"dataframe\">\n",
       "  <thead>\n",
       "    <tr style=\"text-align: right;\">\n",
       "      <th></th>\n",
       "      <th>Unnamed: 0</th>\n",
       "      <th>PassengerId</th>\n",
       "      <th>Survived</th>\n",
       "      <th>Pclass</th>\n",
       "      <th>Name</th>\n",
       "      <th>Sex</th>\n",
       "      <th>Age</th>\n",
       "      <th>SibSp</th>\n",
       "      <th>Parch</th>\n",
       "      <th>Ticket</th>\n",
       "      <th>Fare</th>\n",
       "      <th>Cabin</th>\n",
       "      <th>Embarked</th>\n",
       "    </tr>\n",
       "  </thead>\n",
       "  <tbody>\n",
       "    <tr>\n",
       "      <th>0</th>\n",
       "      <td>0</td>\n",
       "      <td>1</td>\n",
       "      <td>0.0</td>\n",
       "      <td>3</td>\n",
       "      <td>Braund, Mr. Owen Harris</td>\n",
       "      <td>male</td>\n",
       "      <td>22.0</td>\n",
       "      <td>1</td>\n",
       "      <td>0</td>\n",
       "      <td>A/5 21171</td>\n",
       "      <td>7.2500</td>\n",
       "      <td>NaN</td>\n",
       "      <td>S</td>\n",
       "    </tr>\n",
       "    <tr>\n",
       "      <th>1</th>\n",
       "      <td>1</td>\n",
       "      <td>2</td>\n",
       "      <td>1.0</td>\n",
       "      <td>1</td>\n",
       "      <td>Cumings, Mrs. John Bradley (Florence Briggs Th...</td>\n",
       "      <td>female</td>\n",
       "      <td>38.0</td>\n",
       "      <td>1</td>\n",
       "      <td>0</td>\n",
       "      <td>PC 17599</td>\n",
       "      <td>71.2833</td>\n",
       "      <td>C85</td>\n",
       "      <td>C</td>\n",
       "    </tr>\n",
       "    <tr>\n",
       "      <th>2</th>\n",
       "      <td>2</td>\n",
       "      <td>3</td>\n",
       "      <td>1.0</td>\n",
       "      <td>3</td>\n",
       "      <td>Heikkinen, Miss. Laina</td>\n",
       "      <td>female</td>\n",
       "      <td>26.0</td>\n",
       "      <td>0</td>\n",
       "      <td>0</td>\n",
       "      <td>STON/O2. 3101282</td>\n",
       "      <td>7.9250</td>\n",
       "      <td>NaN</td>\n",
       "      <td>S</td>\n",
       "    </tr>\n",
       "    <tr>\n",
       "      <th>3</th>\n",
       "      <td>3</td>\n",
       "      <td>4</td>\n",
       "      <td>1.0</td>\n",
       "      <td>1</td>\n",
       "      <td>Futrelle, Mrs. Jacques Heath (Lily May Peel)</td>\n",
       "      <td>female</td>\n",
       "      <td>35.0</td>\n",
       "      <td>1</td>\n",
       "      <td>0</td>\n",
       "      <td>113803</td>\n",
       "      <td>53.1000</td>\n",
       "      <td>C123</td>\n",
       "      <td>S</td>\n",
       "    </tr>\n",
       "    <tr>\n",
       "      <th>4</th>\n",
       "      <td>4</td>\n",
       "      <td>5</td>\n",
       "      <td>0.0</td>\n",
       "      <td>3</td>\n",
       "      <td>Allen, Mr. William Henry</td>\n",
       "      <td>male</td>\n",
       "      <td>35.0</td>\n",
       "      <td>0</td>\n",
       "      <td>0</td>\n",
       "      <td>373450</td>\n",
       "      <td>8.0500</td>\n",
       "      <td>NaN</td>\n",
       "      <td>S</td>\n",
       "    </tr>\n",
       "  </tbody>\n",
       "</table>\n",
       "</div>"
      ],
      "text/plain": [
       "   Unnamed: 0  PassengerId  Survived  Pclass  \\\n",
       "0           0            1       0.0       3   \n",
       "1           1            2       1.0       1   \n",
       "2           2            3       1.0       3   \n",
       "3           3            4       1.0       1   \n",
       "4           4            5       0.0       3   \n",
       "\n",
       "                                                Name     Sex   Age  SibSp  \\\n",
       "0                            Braund, Mr. Owen Harris    male  22.0      1   \n",
       "1  Cumings, Mrs. John Bradley (Florence Briggs Th...  female  38.0      1   \n",
       "2                             Heikkinen, Miss. Laina  female  26.0      0   \n",
       "3       Futrelle, Mrs. Jacques Heath (Lily May Peel)  female  35.0      1   \n",
       "4                           Allen, Mr. William Henry    male  35.0      0   \n",
       "\n",
       "   Parch            Ticket     Fare Cabin Embarked  \n",
       "0      0         A/5 21171   7.2500   NaN        S  \n",
       "1      0          PC 17599  71.2833   C85        C  \n",
       "2      0  STON/O2. 3101282   7.9250   NaN        S  \n",
       "3      0            113803  53.1000  C123        S  \n",
       "4      0            373450   8.0500   NaN        S  "
      ]
     },
     "execution_count": 34,
     "metadata": {},
     "output_type": "execute_result"
    }
   ],
   "source": [
    "df = pd.read_csv('../data/titanic.csv')\n",
    "df.head()"
   ]
  },
  {
   "cell_type": "code",
   "execution_count": 35,
   "id": "75b218df-7c99-4684-b3d5-f23e9bbb8dcf",
   "metadata": {},
   "outputs": [],
   "source": [
    "'''\n",
    "Normally, XGBoost only works with number, for this example\n",
    "we just exclude text values for simplicity, but we can use encoding or mapping to \n",
    "convert text values into number values \n",
    "Name, Sex, Ticket, Cabin, Embarked\n",
    "'''\n",
    "df = df.loc[:, ~df.columns.isin(['Unnamed: 0', 'PassengerId', 'Name', 'Cabin', 'Ticket'])] #exclude Name, Cabin and Ticket \n",
    "\n",
    "'''\n",
    "mapping categorical into numerical\n",
    "'''\n",
    "df.Sex = df.Sex.map({'male': 1, 'female': 0})\n",
    "df.Embarked = df.Embarked.map({'S': 0, 'C': 1, 'Q': 1})"
   ]
  },
  {
   "cell_type": "code",
   "execution_count": 36,
   "id": "62d3c1dd-b3ba-4d6b-8eda-0c1bfc5b4ab7",
   "metadata": {},
   "outputs": [],
   "source": [
    "'''\n",
    "train test split\n",
    "\n",
    "Pay attention that we use X_train, X_validation, y_train, y_validation instead \n",
    "DMatrix format\n",
    "'''\n",
    "X = df.drop('Survived', axis='columns')\n",
    "y = df.Survived\n",
    "X.fillna(-999, inplace=True)\n",
    "y.fillna(0, inplace=True)\n",
    "X_train, X_validation, y_train, y_validation = train_test_split(X, y, \n",
    "                                                                train_size=0.75,\n",
    "                                                                random_state=42)"
   ]
  },
  {
   "cell_type": "markdown",
   "id": "47b053c0-9049-48a0-8a05-70c36dd66ed2",
   "metadata": {},
   "source": [
    "## Cross validation using cross_val_score [scikit-learn]\n",
    "\n",
    "Important: \n",
    "\n",
    "cross validation is not for returning the best model. It only serves as generalize for the model performance,\n",
    "for example: if the cross_val_score are [0.7, 0.68, 0.71] you would expect if you trained your model, the perfomace would be around those numbers and wont get 0.2 in any circumstances.\n",
    "\n",
    "\n",
    "- cross_val_score usually can take only 1 evaluation metric\n",
    "- can't return the best estimators back\n",
    "\n",
    "https://scikit-learn.org/stable/modules/generated/sklearn.model_selection.cross_val_score.html"
   ]
  },
  {
   "cell_type": "code",
   "execution_count": 74,
   "id": "d147ac16-1854-4138-9554-1c5abddaab69",
   "metadata": {},
   "outputs": [
    {
     "name": "stdout",
     "output_type": "stream",
     "text": [
      "ROC-AUC for cross validated model: 78.029 with STD: 3.473\n"
     ]
    }
   ],
   "source": [
    "'''\n",
    "Important: cross_val_score cant take any non-number values, \n",
    "make sure all your values are in number first\n",
    "\n",
    "Important: doing CV doesn't required a trained model, because\n",
    "cv function will call it inside the function later\n",
    "'''\n",
    "params = {'base_score': 0.5, \n",
    "          'booster': 'gbtree',\n",
    "          'max_depth': 3,\n",
    "          'eval_metric': 'logloss'}\n",
    "model_classifier = xgbclassifier(**params)\n",
    "\n",
    "'''\n",
    "set kfold\n",
    "'''\n",
    "kfold = StratifiedKFold(n_splits=3, shuffle=True)\n",
    "\n",
    "'''\n",
    "do the cross validation, if you want some more advance\n",
    "you could make loop for the base model\n",
    "\n",
    "for name, model in models:\n",
    "    kfold = StratifiedKFold(n_splits=3, shuffle=True)\n",
    "    result = cross_val_score(model, X_train, y_train, cv=kfold)\n",
    "'''\n",
    "results = cross_val_score(model_classifier, X_train, y_train, cv=kfold,\n",
    "                          scoring='roc_auc')\n",
    "print(f'ROC-AUC for cross validated model: {results.mean() * 100:.3f} with STD: {results.std() * 100:.3f}')"
   ]
  },
  {
   "cell_type": "code",
   "execution_count": 75,
   "id": "3136ad41-4aa9-4cca-b3f7-e0adfe2b4fc8",
   "metadata": {},
   "outputs": [
    {
     "name": "stdout",
     "output_type": "stream",
     "text": [
      "ROC-AUC score for cross validated model on validation dataset is 77.507\n"
     ]
    }
   ],
   "source": [
    "cv_validation =cross_val_predict(model_classifier, X_validation, y_validation,\n",
    "                                 cv=kfold, method='predict_proba')\n",
    "print(f'ROC-AUC score for cross validated model on validation dataset is {roc_auc_score(y_validation, cv_validation[:, 1])*100:.3f}')"
   ]
  },
  {
   "cell_type": "markdown",
   "id": "23e910df-7f7a-4d77-ab12-d6df2aa1d48b",
   "metadata": {},
   "source": [
    "***"
   ]
  },
  {
   "cell_type": "markdown",
   "id": "8cf66e79-0938-4d10-962d-1d9a09016052",
   "metadata": {},
   "source": [
    "## Cross validation using cross_validate[scikit-learn]\n",
    "\n",
    "Important: Unlike cross_val_score, cross_validate can return the estimators for re-use, and can have multiple eval_metric.\n",
    "\n",
    "- can have multiple metrics\n",
    "- can return the estimator for re-use\n",
    "\n",
    "https://scikit-learn.org/stable/modules/generated/sklearn.model_selection.cross_validate.html#sklearn.model_selection.cross_validate"
   ]
  },
  {
   "cell_type": "code",
   "execution_count": 91,
   "id": "7fc85fbd-f50b-480e-9202-8a1334f44b3b",
   "metadata": {},
   "outputs": [
    {
     "name": "stdout",
     "output_type": "stream",
     "text": [
      "Best ROC-AUC score is 0.798, with return estimator number: 2\n"
     ]
    }
   ],
   "source": [
    "'''\n",
    "Important: cross_validate cant take any non-number values, \n",
    "make sure all your values are in number first\n",
    "\n",
    "Important: doing CV doesn't required a trained model, because\n",
    "cv function will call it inside the function later\n",
    "'''\n",
    "params = {'base_score': 0.5, \n",
    "          'booster': 'gbtree',\n",
    "          'max_depth': 3,\n",
    "          'eval_metric': 'logloss'}\n",
    "model_classifier = xgbclassifier(**params)\n",
    "\n",
    "'''\n",
    "set kfold\n",
    "'''\n",
    "kfold = StratifiedKFold(n_splits=3, shuffle=True)\n",
    "\n",
    "'''\n",
    "Important: we could return estimator using cross_validate\n",
    "by doing this we can get the best estimators to re-use later\n",
    "\n",
    "do the cross validation, if you want some more advance\n",
    "you could make loop for the base model\n",
    "\n",
    "for name, model in models:\n",
    "    kfold = StratifiedKFold(n_splits=3, shuffle=True)\n",
    "    result = cross_val_score(model, X_train, y_train, cv=kfold)\n",
    "'''\n",
    "cv_results = cross_validate(model_classifier, X_train, y_train, cv=kfold,\n",
    "                           return_estimator=True, scoring='roc_auc')\n",
    "\n",
    "print(f\"Best ROC-AUC score is {np.max(cv_results['test_score']):.3f}, with return estimator number: {np.argmax(cv_results['test_score'])}\")"
   ]
  },
  {
   "cell_type": "code",
   "execution_count": 92,
   "id": "4f8e7895-a867-480d-b85d-abf3915484d1",
   "metadata": {},
   "outputs": [
    {
     "data": {
      "text/plain": [
       "{'fit_time': array([0.09960628, 0.05326819, 0.15404534]),\n",
       " 'score_time': array([0.00576663, 0.01828122, 0.01360035]),\n",
       " 'estimator': [XGBRFClassifier(base_score=0.5, booster='gbtree', colsample_bylevel=1,\n",
       "                  colsample_bytree=1, enable_categorical=False,\n",
       "                  eval_metric='logloss', gamma=0, gpu_id=-1, importance_type=None,\n",
       "                  interaction_constraints='', max_delta_step=0, max_depth=3,\n",
       "                  min_child_weight=1, missing=nan, monotone_constraints='()',\n",
       "                  n_estimators=100, n_jobs=4, num_parallel_tree=100,\n",
       "                  objective='binary:logistic', predictor='auto', random_state=0,\n",
       "                  reg_alpha=0, scale_pos_weight=1, tree_method='exact',\n",
       "                  validate_parameters=1, verbosity=None),\n",
       "  XGBRFClassifier(base_score=0.5, booster='gbtree', colsample_bylevel=1,\n",
       "                  colsample_bytree=1, enable_categorical=False,\n",
       "                  eval_metric='logloss', gamma=0, gpu_id=-1, importance_type=None,\n",
       "                  interaction_constraints='', max_delta_step=0, max_depth=3,\n",
       "                  min_child_weight=1, missing=nan, monotone_constraints='()',\n",
       "                  n_estimators=100, n_jobs=4, num_parallel_tree=100,\n",
       "                  objective='binary:logistic', predictor='auto', random_state=0,\n",
       "                  reg_alpha=0, scale_pos_weight=1, tree_method='exact',\n",
       "                  validate_parameters=1, verbosity=None),\n",
       "  XGBRFClassifier(base_score=0.5, booster='gbtree', colsample_bylevel=1,\n",
       "                  colsample_bytree=1, enable_categorical=False,\n",
       "                  eval_metric='logloss', gamma=0, gpu_id=-1, importance_type=None,\n",
       "                  interaction_constraints='', max_delta_step=0, max_depth=3,\n",
       "                  min_child_weight=1, missing=nan, monotone_constraints='()',\n",
       "                  n_estimators=100, n_jobs=4, num_parallel_tree=100,\n",
       "                  objective='binary:logistic', predictor='auto', random_state=0,\n",
       "                  reg_alpha=0, scale_pos_weight=1, tree_method='exact',\n",
       "                  validate_parameters=1, verbosity=None)],\n",
       " 'test_score': array([0.79800896, 0.73570512, 0.79809402])}"
      ]
     },
     "execution_count": 92,
     "metadata": {},
     "output_type": "execute_result"
    }
   ],
   "source": [
    "'''\n",
    "here are full return of cv_results\n",
    "'''\n",
    "cv_results"
   ]
  },
  {
   "cell_type": "code",
   "execution_count": 97,
   "id": "60a73f43-0e48-4b6b-9382-bf09d8c9a04e",
   "metadata": {},
   "outputs": [
    {
     "name": "stdout",
     "output_type": "stream",
     "text": [
      "ROC-AUC using cv best estimator is 0.791\n"
     ]
    }
   ],
   "source": [
    "'''\n",
    "ROC-AUC score for best estimators\n",
    "'''\n",
    "cv_best_estimators = cv_results['estimator'][np.argmax(cv_results['test_score'])]\n",
    "print(f\"ROC-AUC using cv best estimator is {roc_auc_score(y_validation, cv_best_estimators.predict_proba(X_validation)[:, 1]):.3f}\")"
   ]
  },
  {
   "cell_type": "markdown",
   "id": "606bb6c6-2434-4ae2-8d26-72ac1bbcf7e1",
   "metadata": {},
   "source": [
    "***"
   ]
  },
  {
   "cell_type": "code",
   "execution_count": null,
   "id": "8632fa0c-5c53-45ce-9a27-cbd2a0b1349e",
   "metadata": {},
   "outputs": [],
   "source": []
  }
 ],
 "metadata": {
  "kernelspec": {
   "display_name": "Python 3 (ipykernel)",
   "language": "python",
   "name": "python3"
  },
  "language_info": {
   "codemirror_mode": {
    "name": "ipython",
    "version": 3
   },
   "file_extension": ".py",
   "mimetype": "text/x-python",
   "name": "python",
   "nbconvert_exporter": "python",
   "pygments_lexer": "ipython3",
   "version": "3.9.7"
  }
 },
 "nbformat": 4,
 "nbformat_minor": 5
}
