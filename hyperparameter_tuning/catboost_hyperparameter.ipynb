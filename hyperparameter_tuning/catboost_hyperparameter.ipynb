{
 "cells": [
  {
   "cell_type": "markdown",
   "id": "2ea57047-3ce9-4ca6-bd94-4bc95df3aa2a",
   "metadata": {},
   "source": [
    "# Example of Catboost using HyperOpt as hyperparameter tuning\n",
    "\n",
    "Example taken from https://github.com/catboost/tutorials/blob/master/python_tutorial.ipynb"
   ]
  },
  {
   "cell_type": "code",
   "execution_count": 1,
   "id": "fb0b090b-cde5-4a40-bd82-28578a148479",
   "metadata": {},
   "outputs": [
    {
     "name": "stdout",
     "output_type": "stream",
     "text": [
      "Enabling notebook extension jupyter-js-widgets/extension...\n",
      "      - Validating: \u001b[32mOK\u001b[0m\n"
     ]
    }
   ],
   "source": [
    "'''\n",
    "always enable this when using catboost\n",
    "'''\n",
    "!jupyter nbextension enable --py widgetsnbextension"
   ]
  },
  {
   "cell_type": "code",
   "execution_count": 2,
   "id": "4574dafb-4dab-4a0c-a1f6-1a2db3967ac6",
   "metadata": {},
   "outputs": [
    {
     "name": "stderr",
     "output_type": "stream",
     "text": [
      "/home/anggi/anaconda3/lib/python3.9/site-packages/xgboost/compat.py:36: FutureWarning: pandas.Int64Index is deprecated and will be removed from pandas in a future version. Use pandas.Index with the appropriate dtype instead.\n",
      "  from pandas import MultiIndex, Int64Index\n"
     ]
    }
   ],
   "source": [
    "from sklearn.model_selection import train_test_split\n",
    "from sklearn.metrics import accuracy_score\n",
    "\n",
    "from catboost import CatBoostClassifier, Pool, metrics, cv\n",
    "\n",
    "import hyperopt\n",
    "\n",
    "import pandas as pd\n",
    "import numpy as np\n",
    "from numpy.random import RandomState\n",
    "\n",
    "import warnings\n",
    "warnings.filterwarnings('ignore')"
   ]
  },
  {
   "cell_type": "code",
   "execution_count": 3,
   "id": "9d67aafc-d109-45ce-8776-182b647393cb",
   "metadata": {},
   "outputs": [
    {
     "data": {
      "text/html": [
       "<div>\n",
       "<style scoped>\n",
       "    .dataframe tbody tr th:only-of-type {\n",
       "        vertical-align: middle;\n",
       "    }\n",
       "\n",
       "    .dataframe tbody tr th {\n",
       "        vertical-align: top;\n",
       "    }\n",
       "\n",
       "    .dataframe thead th {\n",
       "        text-align: right;\n",
       "    }\n",
       "</style>\n",
       "<table border=\"1\" class=\"dataframe\">\n",
       "  <thead>\n",
       "    <tr style=\"text-align: right;\">\n",
       "      <th></th>\n",
       "      <th>Unnamed: 0</th>\n",
       "      <th>PassengerId</th>\n",
       "      <th>Survived</th>\n",
       "      <th>Pclass</th>\n",
       "      <th>Name</th>\n",
       "      <th>Sex</th>\n",
       "      <th>Age</th>\n",
       "      <th>SibSp</th>\n",
       "      <th>Parch</th>\n",
       "      <th>Ticket</th>\n",
       "      <th>Fare</th>\n",
       "      <th>Cabin</th>\n",
       "      <th>Embarked</th>\n",
       "    </tr>\n",
       "  </thead>\n",
       "  <tbody>\n",
       "    <tr>\n",
       "      <th>0</th>\n",
       "      <td>0</td>\n",
       "      <td>1</td>\n",
       "      <td>0.0</td>\n",
       "      <td>3</td>\n",
       "      <td>Braund, Mr. Owen Harris</td>\n",
       "      <td>male</td>\n",
       "      <td>22.0</td>\n",
       "      <td>1</td>\n",
       "      <td>0</td>\n",
       "      <td>A/5 21171</td>\n",
       "      <td>7.2500</td>\n",
       "      <td>NaN</td>\n",
       "      <td>S</td>\n",
       "    </tr>\n",
       "    <tr>\n",
       "      <th>1</th>\n",
       "      <td>1</td>\n",
       "      <td>2</td>\n",
       "      <td>1.0</td>\n",
       "      <td>1</td>\n",
       "      <td>Cumings, Mrs. John Bradley (Florence Briggs Th...</td>\n",
       "      <td>female</td>\n",
       "      <td>38.0</td>\n",
       "      <td>1</td>\n",
       "      <td>0</td>\n",
       "      <td>PC 17599</td>\n",
       "      <td>71.2833</td>\n",
       "      <td>C85</td>\n",
       "      <td>C</td>\n",
       "    </tr>\n",
       "    <tr>\n",
       "      <th>2</th>\n",
       "      <td>2</td>\n",
       "      <td>3</td>\n",
       "      <td>1.0</td>\n",
       "      <td>3</td>\n",
       "      <td>Heikkinen, Miss. Laina</td>\n",
       "      <td>female</td>\n",
       "      <td>26.0</td>\n",
       "      <td>0</td>\n",
       "      <td>0</td>\n",
       "      <td>STON/O2. 3101282</td>\n",
       "      <td>7.9250</td>\n",
       "      <td>NaN</td>\n",
       "      <td>S</td>\n",
       "    </tr>\n",
       "    <tr>\n",
       "      <th>3</th>\n",
       "      <td>3</td>\n",
       "      <td>4</td>\n",
       "      <td>1.0</td>\n",
       "      <td>1</td>\n",
       "      <td>Futrelle, Mrs. Jacques Heath (Lily May Peel)</td>\n",
       "      <td>female</td>\n",
       "      <td>35.0</td>\n",
       "      <td>1</td>\n",
       "      <td>0</td>\n",
       "      <td>113803</td>\n",
       "      <td>53.1000</td>\n",
       "      <td>C123</td>\n",
       "      <td>S</td>\n",
       "    </tr>\n",
       "    <tr>\n",
       "      <th>4</th>\n",
       "      <td>4</td>\n",
       "      <td>5</td>\n",
       "      <td>0.0</td>\n",
       "      <td>3</td>\n",
       "      <td>Allen, Mr. William Henry</td>\n",
       "      <td>male</td>\n",
       "      <td>35.0</td>\n",
       "      <td>0</td>\n",
       "      <td>0</td>\n",
       "      <td>373450</td>\n",
       "      <td>8.0500</td>\n",
       "      <td>NaN</td>\n",
       "      <td>S</td>\n",
       "    </tr>\n",
       "  </tbody>\n",
       "</table>\n",
       "</div>"
      ],
      "text/plain": [
       "   Unnamed: 0  PassengerId  Survived  Pclass  \\\n",
       "0           0            1       0.0       3   \n",
       "1           1            2       1.0       1   \n",
       "2           2            3       1.0       3   \n",
       "3           3            4       1.0       1   \n",
       "4           4            5       0.0       3   \n",
       "\n",
       "                                                Name     Sex   Age  SibSp  \\\n",
       "0                            Braund, Mr. Owen Harris    male  22.0      1   \n",
       "1  Cumings, Mrs. John Bradley (Florence Briggs Th...  female  38.0      1   \n",
       "2                             Heikkinen, Miss. Laina  female  26.0      0   \n",
       "3       Futrelle, Mrs. Jacques Heath (Lily May Peel)  female  35.0      1   \n",
       "4                           Allen, Mr. William Henry    male  35.0      0   \n",
       "\n",
       "   Parch            Ticket     Fare Cabin Embarked  \n",
       "0      0         A/5 21171   7.2500   NaN        S  \n",
       "1      0          PC 17599  71.2833   C85        C  \n",
       "2      0  STON/O2. 3101282   7.9250   NaN        S  \n",
       "3      0            113803  53.1000  C123        S  \n",
       "4      0            373450   8.0500   NaN        S  "
      ]
     },
     "execution_count": 3,
     "metadata": {},
     "output_type": "execute_result"
    }
   ],
   "source": [
    "df = pd.read_csv('../data/titanic.csv')\n",
    "df.head()"
   ]
  },
  {
   "cell_type": "code",
   "execution_count": 4,
   "id": "89b4fd9e-f5df-463a-92c7-828c520bef26",
   "metadata": {},
   "outputs": [],
   "source": [
    "'''\n",
    "train test split\n",
    "'''\n",
    "X = df.drop('Survived', axis='columns')\n",
    "y = df.Survived\n",
    "X.fillna(-999, inplace=True)\n",
    "y.fillna(0, inplace=True)\n",
    "X_train, X_validation, y_train, y_validation = train_test_split(X, y, \n",
    "                                                                train_size=0.75,\n",
    "                                                                random_state=42)"
   ]
  },
  {
   "cell_type": "code",
   "execution_count": 5,
   "id": "7ffe0056-4d3f-47e7-bdad-5fc81e5e5cdb",
   "metadata": {},
   "outputs": [
    {
     "data": {
      "text/plain": [
       "array([ 0,  1,  2,  3,  4,  6,  7,  8, 10, 11])"
      ]
     },
     "execution_count": 5,
     "metadata": {},
     "output_type": "execute_result"
    }
   ],
   "source": [
    "'''\n",
    "list categorical features (catboost needs the indexes instead col names)\n",
    "'''\n",
    "#cat_features_indices = np.where((X.dtypes != float) & (X.dtypes != int))[0] #we dont use this because some categorical features are encoded in int\n",
    "cat_features_indices = np.where(X.dtypes != float)[0]\n",
    "cat_features_indices"
   ]
  },
  {
   "cell_type": "code",
   "execution_count": 6,
   "id": "3555e3ae-af13-4639-a4b2-f3f99bc451c1",
   "metadata": {},
   "outputs": [],
   "source": [
    "train_pool = Pool(X_train, y_train, cat_features=cat_features_indices)\n",
    "validation_pool = Pool(X_validation, y_validation, cat_features=cat_features_indices)"
   ]
  },
  {
   "cell_type": "code",
   "execution_count": 7,
   "id": "8de209b6-8dc3-4a5f-97f0-6a76385c0c0a",
   "metadata": {},
   "outputs": [
    {
     "data": {
      "text/plain": [
       "<catboost.core.CatBoostClassifier at 0x7f0aa8f928b0>"
      ]
     },
     "execution_count": 7,
     "metadata": {},
     "output_type": "execute_result"
    }
   ],
   "source": [
    "params = {'custom_loss': [metrics.Accuracy()], \n",
    "          'random_seed': 42, \n",
    "          'logging_level': 'Silent'}\n",
    "\n",
    "model = CatBoostClassifier(**params)\n",
    "model.fit(train_pool, eval_set=validation_pool)"
   ]
  },
  {
   "cell_type": "markdown",
   "id": "4e17f4ce-4f36-46b1-80a8-4cae050b2aad",
   "metadata": {},
   "source": [
    "***"
   ]
  },
  {
   "cell_type": "markdown",
   "id": "ac3838e0-498c-4591-828c-e1cd44b64609",
   "metadata": {},
   "source": [
    "## Hyperparameter tuning"
   ]
  },
  {
   "cell_type": "code",
   "execution_count": 8,
   "id": "1d2515db-7752-42ac-9cef-87237d4941c3",
   "metadata": {},
   "outputs": [],
   "source": [
    "'''\n",
    "set hyperopt objective, please pay attention to params and params_space\n",
    "'''\n",
    "def hyperopt_objective(params_space):\n",
    "    '''\n",
    "    whithin this function where we define our configuration/parameters\n",
    "    '''\n",
    "    params = {\n",
    "        'l2_leaf_reg': int(params_space['l2_leaf_reg']),\n",
    "        'learning_rate': params_space['learning_rate'],\n",
    "        'iterations': 500,\n",
    "        'eval_metric':  metrics.Accuracy(),\n",
    "        'random_seed': 42,\n",
    "        'verbose': False, \n",
    "        'loss_function': metrics.Logloss()}\n",
    " \n",
    "    train_pool = Pool(X_train, y_train, cat_features=cat_features_indices)\n",
    "    validation_pool = Pool(X_validation, y_validation, cat_features=cat_features_indices)\n",
    "    \n",
    "    model = CatBoostClassifier(**params)\n",
    "    model.fit(train_pool, eval_set=validation_pool)\n",
    "    \n",
    "    '''\n",
    "    here we use cv because purpose of tuning is cross validation\n",
    "    \n",
    "    cv reference https://catboost.ai/en/docs/concepts/python-reference_cv\n",
    "    \n",
    "    we can also add nfold as arguments for kfold cv\n",
    "    and also have plot=True\n",
    "    '''\n",
    "    #cv_data = cv(train_pool, nfold=3, model.get_params(), logging_level='Silent', plot=True) #if we want to have nfold cv and plot\n",
    "    cv_data = cv(train_pool, model.get_params(), logging_level='Silent')\n",
    "    \n",
    "    best_accuracy = np.max(cv_data['test-Accuracy-mean'])\n",
    "    \n",
    "    return 1 - best_accuracy #as hyperopt minimises"
   ]
  },
  {
   "cell_type": "markdown",
   "id": "95e403ab-b24c-43a3-8043-7a566c6e4d73",
   "metadata": {},
   "source": [
    "### Hyperparameter tuning process"
   ]
  },
  {
   "cell_type": "code",
   "execution_count": 10,
   "id": "d4b3267b-b964-40d3-a542-94294953a6c5",
   "metadata": {},
   "outputs": [
    {
     "name": "stdout",
     "output_type": "stream",
     "text": [
      "100%|████████| 50/50 [12:24<00:00, 14.89s/trial, best loss: 0.18959121635174248]\n"
     ]
    }
   ],
   "source": [
    "'''\n",
    "set params space for hyperparamters\n",
    "'''\n",
    "params_space = {\n",
    "    'l2_leaf_reg': hyperopt.hp.qloguniform('l2_leaf_reg', 0, 2, 1),\n",
    "    'learning_rate': hyperopt.hp.uniform('learning_rate', 1e-3, 5e-1)}\n",
    "\n",
    "'''\n",
    "trials for tuning\n",
    "'''\n",
    "trials = hyperopt.Trials()\n",
    "\n",
    "'''\n",
    "retrieve the best parameters\n",
    "'''\n",
    "hyperopt_params = {\n",
    "    'fn': hyperopt_objective,\n",
    "    'space': params_space,\n",
    "    'algo': hyperopt.tpe.suggest,\n",
    "    'max_evals': 50,\n",
    "    'trials': trials}\n",
    "best_parameters = hyperopt.fmin(**hyperopt_params)"
   ]
  },
  {
   "cell_type": "code",
   "execution_count": 11,
   "id": "a688d0af-34e6-4177-893c-cb5941288cfa",
   "metadata": {},
   "outputs": [
    {
     "name": "stdout",
     "output_type": "stream",
     "text": [
      "best parameters: {'l2_leaf_reg': 1.0, 'learning_rate': 0.22152507179801384}\n"
     ]
    }
   ],
   "source": [
    "print(f'best parameters: {best_parameters}')"
   ]
  },
  {
   "cell_type": "markdown",
   "id": "de0c59f9-65aa-4235-8c9f-dd29a23e49d3",
   "metadata": {},
   "source": [
    "### Re-train using best parameters"
   ]
  },
  {
   "cell_type": "code",
   "execution_count": 59,
   "id": "8c2e292c-dcaf-492d-8c2a-f2fb09770cdd",
   "metadata": {},
   "outputs": [
    {
     "data": {
      "application/vnd.jupyter.widget-view+json": {
       "model_id": "d3724bac904948fa877df7603009652e",
       "version_major": 2,
       "version_minor": 0
      },
      "text/plain": [
       "MetricVisualizer(layout=Layout(align_self='stretch', height='500px'))"
      ]
     },
     "metadata": {},
     "output_type": "display_data"
    },
    {
     "name": "stdout",
     "output_type": "stream",
     "text": [
      "Training on fold [0/3]\n",
      "\n",
      "bestTest = 0.8048780488\n",
      "bestIteration = 15\n",
      "\n",
      "Training on fold [1/3]\n",
      "\n",
      "bestTest = 0.8287461774\n",
      "bestIteration = 49\n",
      "\n",
      "Training on fold [2/3]\n",
      "\n",
      "bestTest = 0.8067484663\n",
      "bestIteration = 49\n",
      "\n"
     ]
    }
   ],
   "source": [
    "'''\n",
    "re-train model and do cross validation using best parameters get from hyperparamters trials\n",
    "'''\n",
    "train_pool = Pool(X_train, y_train, cat_features=cat_features_indices)\n",
    "\n",
    "best_hyperparamters_params = {\n",
    "        'l2_leaf_reg': int(best_parameters['l2_leaf_reg']),\n",
    "        'learning_rate': best_parameters['learning_rate'],\n",
    "        'iterations': 500,\n",
    "        'eval_metric':  metrics.Accuracy(),\n",
    "        'random_seed': 42,\n",
    "        'verbose': False,\n",
    "        'loss_function': metrics.Logloss()}\n",
    "\n",
    "model_best_parameters = CatBoostClassifier(**best_hyperparamters_params)\n",
    "model_best_parameters.fit(train_pool, eval_set=validation_pool)\n",
    "\n",
    "cv_data = cv(train_pool, model_best_parameters.get_params(), nfold=3, plot=True)"
   ]
  },
  {
   "cell_type": "code",
   "execution_count": 62,
   "id": "65c2dd3c-ea49-4ed3-bc57-cd6832e20a82",
   "metadata": {},
   "outputs": [
    {
     "name": "stdout",
     "output_type": "stream",
     "text": [
      "Precise validation accuracy score: 0.810\n"
     ]
    }
   ],
   "source": [
    "print(f'Precise validation accuracy score: {np.max(cv_data[\"test-Accuracy-mean\"]):.3f}')"
   ]
  }
 ],
 "metadata": {
  "kernelspec": {
   "display_name": "Python 3 (ipykernel)",
   "language": "python",
   "name": "python3"
  },
  "language_info": {
   "codemirror_mode": {
    "name": "ipython",
    "version": 3
   },
   "file_extension": ".py",
   "mimetype": "text/x-python",
   "name": "python",
   "nbconvert_exporter": "python",
   "pygments_lexer": "ipython3",
   "version": "3.9.7"
  }
 },
 "nbformat": 4,
 "nbformat_minor": 5
}
