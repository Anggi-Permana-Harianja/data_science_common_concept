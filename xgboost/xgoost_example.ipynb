{
 "cells": [
  {
   "cell_type": "markdown",
   "id": "0e176116-3fd5-4b19-9877-4809114dd465",
   "metadata": {},
   "source": [
    "# Example of XGBoost Usage"
   ]
  },
  {
   "cell_type": "markdown",
   "id": "cb58d4bc-d5da-45aa-b0e1-83ef903b6a3c",
   "metadata": {},
   "source": [
    "## Using XGBoost train\n",
    "\n",
    "XGBoost train is original function from xgboost to train the model\n",
    "XGBoost train need the datasets converted into DMatrix format\n",
    "\n",
    "DMatrix is an internal data structure that is used by XGBoost, which is optimized for both memory efficiency and training speed. You can construct DMatrix from multiple different sources of data.\n",
    "\n",
    "https://xgboost.readthedocs.io/en/stable/python/python_api.html#:~:text=DMatrix%20is%20an%20internal%20data,PathLike%2Fstring%2Fnumpy."
   ]
  },
  {
   "cell_type": "code",
   "execution_count": 42,
   "id": "18a92caf-d327-4eef-ae5c-0d93520d9c10",
   "metadata": {},
   "outputs": [],
   "source": [
    "import xgboost as xgb\n",
    "from xgboost import XGBRFClassifier as xgbclassifier\n",
    "from xgboost import DMatrix\n",
    "\n",
    "import pandas as pd\n",
    "import numpy as np\n",
    "\n",
    "from sklearn.metrics import roc_auc_score\n",
    "from sklearn.model_selection import train_test_split\n",
    "\n",
    "from matplotlib import pyplot as plt\n",
    "%matplotlib inline\n",
    "\n",
    "import warnings\n",
    "warnings.filterwarnings('ignore')"
   ]
  },
  {
   "cell_type": "code",
   "execution_count": 2,
   "id": "621ed81f-f3ee-4fb6-a31d-726bd13f4276",
   "metadata": {},
   "outputs": [
    {
     "data": {
      "text/html": [
       "<div>\n",
       "<style scoped>\n",
       "    .dataframe tbody tr th:only-of-type {\n",
       "        vertical-align: middle;\n",
       "    }\n",
       "\n",
       "    .dataframe tbody tr th {\n",
       "        vertical-align: top;\n",
       "    }\n",
       "\n",
       "    .dataframe thead th {\n",
       "        text-align: right;\n",
       "    }\n",
       "</style>\n",
       "<table border=\"1\" class=\"dataframe\">\n",
       "  <thead>\n",
       "    <tr style=\"text-align: right;\">\n",
       "      <th></th>\n",
       "      <th>Unnamed: 0</th>\n",
       "      <th>PassengerId</th>\n",
       "      <th>Survived</th>\n",
       "      <th>Pclass</th>\n",
       "      <th>Name</th>\n",
       "      <th>Sex</th>\n",
       "      <th>Age</th>\n",
       "      <th>SibSp</th>\n",
       "      <th>Parch</th>\n",
       "      <th>Ticket</th>\n",
       "      <th>Fare</th>\n",
       "      <th>Cabin</th>\n",
       "      <th>Embarked</th>\n",
       "    </tr>\n",
       "  </thead>\n",
       "  <tbody>\n",
       "    <tr>\n",
       "      <th>0</th>\n",
       "      <td>0</td>\n",
       "      <td>1</td>\n",
       "      <td>0.0</td>\n",
       "      <td>3</td>\n",
       "      <td>Braund, Mr. Owen Harris</td>\n",
       "      <td>male</td>\n",
       "      <td>22.0</td>\n",
       "      <td>1</td>\n",
       "      <td>0</td>\n",
       "      <td>A/5 21171</td>\n",
       "      <td>7.2500</td>\n",
       "      <td>NaN</td>\n",
       "      <td>S</td>\n",
       "    </tr>\n",
       "    <tr>\n",
       "      <th>1</th>\n",
       "      <td>1</td>\n",
       "      <td>2</td>\n",
       "      <td>1.0</td>\n",
       "      <td>1</td>\n",
       "      <td>Cumings, Mrs. John Bradley (Florence Briggs Th...</td>\n",
       "      <td>female</td>\n",
       "      <td>38.0</td>\n",
       "      <td>1</td>\n",
       "      <td>0</td>\n",
       "      <td>PC 17599</td>\n",
       "      <td>71.2833</td>\n",
       "      <td>C85</td>\n",
       "      <td>C</td>\n",
       "    </tr>\n",
       "    <tr>\n",
       "      <th>2</th>\n",
       "      <td>2</td>\n",
       "      <td>3</td>\n",
       "      <td>1.0</td>\n",
       "      <td>3</td>\n",
       "      <td>Heikkinen, Miss. Laina</td>\n",
       "      <td>female</td>\n",
       "      <td>26.0</td>\n",
       "      <td>0</td>\n",
       "      <td>0</td>\n",
       "      <td>STON/O2. 3101282</td>\n",
       "      <td>7.9250</td>\n",
       "      <td>NaN</td>\n",
       "      <td>S</td>\n",
       "    </tr>\n",
       "    <tr>\n",
       "      <th>3</th>\n",
       "      <td>3</td>\n",
       "      <td>4</td>\n",
       "      <td>1.0</td>\n",
       "      <td>1</td>\n",
       "      <td>Futrelle, Mrs. Jacques Heath (Lily May Peel)</td>\n",
       "      <td>female</td>\n",
       "      <td>35.0</td>\n",
       "      <td>1</td>\n",
       "      <td>0</td>\n",
       "      <td>113803</td>\n",
       "      <td>53.1000</td>\n",
       "      <td>C123</td>\n",
       "      <td>S</td>\n",
       "    </tr>\n",
       "    <tr>\n",
       "      <th>4</th>\n",
       "      <td>4</td>\n",
       "      <td>5</td>\n",
       "      <td>0.0</td>\n",
       "      <td>3</td>\n",
       "      <td>Allen, Mr. William Henry</td>\n",
       "      <td>male</td>\n",
       "      <td>35.0</td>\n",
       "      <td>0</td>\n",
       "      <td>0</td>\n",
       "      <td>373450</td>\n",
       "      <td>8.0500</td>\n",
       "      <td>NaN</td>\n",
       "      <td>S</td>\n",
       "    </tr>\n",
       "  </tbody>\n",
       "</table>\n",
       "</div>"
      ],
      "text/plain": [
       "   Unnamed: 0  PassengerId  Survived  Pclass  \\\n",
       "0           0            1       0.0       3   \n",
       "1           1            2       1.0       1   \n",
       "2           2            3       1.0       3   \n",
       "3           3            4       1.0       1   \n",
       "4           4            5       0.0       3   \n",
       "\n",
       "                                                Name     Sex   Age  SibSp  \\\n",
       "0                            Braund, Mr. Owen Harris    male  22.0      1   \n",
       "1  Cumings, Mrs. John Bradley (Florence Briggs Th...  female  38.0      1   \n",
       "2                             Heikkinen, Miss. Laina  female  26.0      0   \n",
       "3       Futrelle, Mrs. Jacques Heath (Lily May Peel)  female  35.0      1   \n",
       "4                           Allen, Mr. William Henry    male  35.0      0   \n",
       "\n",
       "   Parch            Ticket     Fare Cabin Embarked  \n",
       "0      0         A/5 21171   7.2500   NaN        S  \n",
       "1      0          PC 17599  71.2833   C85        C  \n",
       "2      0  STON/O2. 3101282   7.9250   NaN        S  \n",
       "3      0            113803  53.1000  C123        S  \n",
       "4      0            373450   8.0500   NaN        S  "
      ]
     },
     "execution_count": 2,
     "metadata": {},
     "output_type": "execute_result"
    }
   ],
   "source": [
    "df = pd.read_csv('../data/titanic.csv')\n",
    "df.head()"
   ]
  },
  {
   "cell_type": "code",
   "execution_count": 9,
   "id": "7359d975-38f8-41d4-9814-77330de8151d",
   "metadata": {},
   "outputs": [],
   "source": [
    "'''\n",
    "Normally, XGBoost only works with number, for this example\n",
    "we just exclude text values for simplicity, but we can use encoding or mapping to \n",
    "convert text values into number values \n",
    "Name, Sex, Ticket, Cabin, Embarked\n",
    "'''\n",
    "df = df.loc[:, ~df.columns.isin(['Unnamed: 0', 'PassengerId', 'Name', 'Cabin', 'Ticket'])] #exclude Name, Cabin and Ticket \n",
    "\n",
    "'''\n",
    "mapping categorical into numerical\n",
    "'''\n",
    "df.Sex = df.Sex.map({'male': 1, 'female': 0})\n",
    "df.Embarked = df.Embarked.map({'S': 0, 'C': 1, 'Q': 1})"
   ]
  },
  {
   "cell_type": "code",
   "execution_count": 10,
   "id": "99830a41-cc89-4a85-9a31-b52f3599cd3a",
   "metadata": {},
   "outputs": [
    {
     "data": {
      "text/html": [
       "<div>\n",
       "<style scoped>\n",
       "    .dataframe tbody tr th:only-of-type {\n",
       "        vertical-align: middle;\n",
       "    }\n",
       "\n",
       "    .dataframe tbody tr th {\n",
       "        vertical-align: top;\n",
       "    }\n",
       "\n",
       "    .dataframe thead th {\n",
       "        text-align: right;\n",
       "    }\n",
       "</style>\n",
       "<table border=\"1\" class=\"dataframe\">\n",
       "  <thead>\n",
       "    <tr style=\"text-align: right;\">\n",
       "      <th></th>\n",
       "      <th>Survived</th>\n",
       "      <th>Pclass</th>\n",
       "      <th>Sex</th>\n",
       "      <th>Age</th>\n",
       "      <th>SibSp</th>\n",
       "      <th>Parch</th>\n",
       "      <th>Fare</th>\n",
       "      <th>Embarked</th>\n",
       "    </tr>\n",
       "  </thead>\n",
       "  <tbody>\n",
       "    <tr>\n",
       "      <th>0</th>\n",
       "      <td>0.0</td>\n",
       "      <td>3</td>\n",
       "      <td>1</td>\n",
       "      <td>22.0</td>\n",
       "      <td>1</td>\n",
       "      <td>0</td>\n",
       "      <td>7.2500</td>\n",
       "      <td>0.0</td>\n",
       "    </tr>\n",
       "    <tr>\n",
       "      <th>1</th>\n",
       "      <td>1.0</td>\n",
       "      <td>1</td>\n",
       "      <td>0</td>\n",
       "      <td>38.0</td>\n",
       "      <td>1</td>\n",
       "      <td>0</td>\n",
       "      <td>71.2833</td>\n",
       "      <td>1.0</td>\n",
       "    </tr>\n",
       "    <tr>\n",
       "      <th>2</th>\n",
       "      <td>1.0</td>\n",
       "      <td>3</td>\n",
       "      <td>0</td>\n",
       "      <td>26.0</td>\n",
       "      <td>0</td>\n",
       "      <td>0</td>\n",
       "      <td>7.9250</td>\n",
       "      <td>0.0</td>\n",
       "    </tr>\n",
       "    <tr>\n",
       "      <th>3</th>\n",
       "      <td>1.0</td>\n",
       "      <td>1</td>\n",
       "      <td>0</td>\n",
       "      <td>35.0</td>\n",
       "      <td>1</td>\n",
       "      <td>0</td>\n",
       "      <td>53.1000</td>\n",
       "      <td>0.0</td>\n",
       "    </tr>\n",
       "    <tr>\n",
       "      <th>4</th>\n",
       "      <td>0.0</td>\n",
       "      <td>3</td>\n",
       "      <td>1</td>\n",
       "      <td>35.0</td>\n",
       "      <td>0</td>\n",
       "      <td>0</td>\n",
       "      <td>8.0500</td>\n",
       "      <td>0.0</td>\n",
       "    </tr>\n",
       "  </tbody>\n",
       "</table>\n",
       "</div>"
      ],
      "text/plain": [
       "   Survived  Pclass  Sex   Age  SibSp  Parch     Fare  Embarked\n",
       "0       0.0       3    1  22.0      1      0   7.2500       0.0\n",
       "1       1.0       1    0  38.0      1      0  71.2833       1.0\n",
       "2       1.0       3    0  26.0      0      0   7.9250       0.0\n",
       "3       1.0       1    0  35.0      1      0  53.1000       0.0\n",
       "4       0.0       3    1  35.0      0      0   8.0500       0.0"
      ]
     },
     "execution_count": 10,
     "metadata": {},
     "output_type": "execute_result"
    }
   ],
   "source": [
    "df.head()"
   ]
  },
  {
   "cell_type": "code",
   "execution_count": 11,
   "id": "da7c9d22-0f79-46b0-826c-5470fa93476b",
   "metadata": {},
   "outputs": [],
   "source": [
    "'''\n",
    "train test split\n",
    "'''\n",
    "X = df.drop('Survived', axis='columns')\n",
    "y = df.Survived\n",
    "X.fillna(-999, inplace=True)\n",
    "y.fillna(0, inplace=True)\n",
    "X_train, X_validation, y_train, y_validation = train_test_split(X, y, \n",
    "                                                                train_size=0.75,\n",
    "                                                                random_state=42)"
   ]
  },
  {
   "cell_type": "code",
   "execution_count": 12,
   "id": "0f4d955c-161b-48e8-8936-6f1ee048f834",
   "metadata": {},
   "outputs": [],
   "source": [
    "'''\n",
    "convert all dataset into DMatrix format\n",
    "\n",
    "Important: DataFrame.dtypes for data must be int, float, bool or category. \n",
    "When categorical type is supplied, DMatrix parameter `enable_categorical` must\n",
    "be set to `True`\n",
    "'''\n",
    "dtrain = DMatrix(data=X_train, label=y_train, enable_categorical=True)\n",
    "dvalidation = DMatrix(data=X_validation, label=y_validation, enable_categorical=True)"
   ]
  },
  {
   "cell_type": "code",
   "execution_count": 23,
   "id": "fc8fca0d-1c69-498b-941f-c32673e24b1b",
   "metadata": {},
   "outputs": [],
   "source": [
    "'''\n",
    "train the model\n",
    "for binary classification please add 'objective': 'binary:logistic' in the params\n",
    "'''\n",
    "params = {'max_depth':2, 'eta':1, \n",
    "          'objective':'binary:logistic', \n",
    "          'eval_metric': 'logloss'}\n",
    "model = xgb.train(params, dtrain, num_boost_round=2)"
   ]
  },
  {
   "cell_type": "code",
   "execution_count": 28,
   "id": "60daa023-6a91-4765-8a63-956142a8e847",
   "metadata": {},
   "outputs": [
    {
     "name": "stdout",
     "output_type": "stream",
     "text": [
      "[0.09974871 0.16020918 0.09974871 0.09974871 0.34502193]\n",
      "ROC-AUC score 0.778\n"
     ]
    }
   ],
   "source": [
    "'''\n",
    "predict\n",
    "XGBoost train does not have predict_proba function like scikit-learn\n",
    "but the output from predict is still probability, we can put the threshold \n",
    "so that we can have the prediction\n",
    "'''\n",
    "predicts = model.predict(dvalidation)\n",
    "print(predicts[:5])\n",
    "print(f'ROC-AUC score {roc_auc_score(y_validation, predicts):.3f}')"
   ]
  },
  {
   "cell_type": "markdown",
   "id": "50244aef-f79b-442a-bd3e-193ef726e2b5",
   "metadata": {},
   "source": [
    "***"
   ]
  },
  {
   "cell_type": "markdown",
   "id": "2d161473-eb6d-46ee-976e-3be39dfecfb1",
   "metadata": {},
   "source": [
    "## XGBoost using XGBoost classifier\n",
    "\n",
    "XGBoost classifier is XGBoost wrapped in scikit-learn so that could be \n",
    "easily to use as classifier and to use scikit-learn capabilities\n",
    "\n",
    "When using XGBoost classifier we dont need to specify the objective='binary:logistic' and enable_categorical=Truen because these are the default in XGBoost classifier\n",
    "\n",
    "The difference between XGBoost classifier with XGB train is XGBoost classifier does not need to \n",
    "convert the dataset into DMatrix format"
   ]
  },
  {
   "cell_type": "code",
   "execution_count": 32,
   "id": "218754d1-667e-4dfc-96df-fb63d05256c5",
   "metadata": {},
   "outputs": [
    {
     "data": {
      "text/plain": [
       "XGBRFClassifier(base_score=0.5, booster='gbtree', colsample_bylevel=1,\n",
       "                colsample_bytree=1, enable_categorical=False,\n",
       "                eval_metric='logloss', gamma=0, gpu_id=-1, importance_type=None,\n",
       "                interaction_constraints='', max_delta_step=0, max_depth=3,\n",
       "                min_child_weight=1, missing=nan, monotone_constraints='()',\n",
       "                n_estimators=100, n_jobs=4, num_parallel_tree=100,\n",
       "                objective='binary:logistic', predictor='auto', random_state=0,\n",
       "                reg_alpha=0, scale_pos_weight=1, tree_method='exact',\n",
       "                validate_parameters=1, verbosity=None)"
      ]
     },
     "execution_count": 32,
     "metadata": {},
     "output_type": "execute_result"
    }
   ],
   "source": [
    "'''\n",
    "We use the same pre-processed dataset from task above and skip the\n",
    "process into train the model.\n",
    "\n",
    "Pay attention that we use X_train, X_validation, y_train, y_validation instead \n",
    "dtrain and dvalidation\n",
    "'''\n",
    "params = {'base_score': 0.5, \n",
    "          'booster': 'gbtree',\n",
    "          'max_depth': 3,\n",
    "          'eval_metric': 'logloss'}\n",
    "model_classifier = xgbclassifier(**params)\n",
    "model_classifier.fit(X_train, y_train)"
   ]
  },
  {
   "cell_type": "code",
   "execution_count": 41,
   "id": "92dd4f6e-e3ff-4bad-937d-af32a9c7aefe",
   "metadata": {},
   "outputs": [
    {
     "name": "stdout",
     "output_type": "stream",
     "text": [
      "[[0.8375908  0.16240916]\n",
      " [0.7568611  0.2431389 ]\n",
      " [0.8386097  0.16139033]\n",
      " [0.8338431  0.16615687]\n",
      " [0.6332153  0.3667847 ]]\n",
      "ROC-AUC score 0.806\n"
     ]
    }
   ],
   "source": [
    "'''\n",
    "predict proba\n",
    "'''\n",
    "predicts_proba = model_classifier.predict_proba(X_validation)\n",
    "print(predicts_proba[:5])\n",
    "print(f'ROC-AUC score {roc_auc_score(y_validation, predicts_proba[:, 1]):.3f}') #predict_proba[:, 1] means we only take the class 1 probability"
   ]
  },
  {
   "cell_type": "markdown",
   "id": "05a419ec-b457-48ea-8897-1d59a296d864",
   "metadata": {},
   "source": [
    "***"
   ]
  },
  {
   "cell_type": "markdown",
   "id": "9d0551b2-dc3c-4dd6-b315-f291ad482092",
   "metadata": {},
   "source": [
    "## Feature importance"
   ]
  },
  {
   "cell_type": "code",
   "execution_count": 43,
   "id": "96f1882a-8e9d-4b28-af1f-e702a879e2cd",
   "metadata": {},
   "outputs": [
    {
     "data": {
      "image/png": "[encoded data removed]",
      "text/plain": [
       "<Figure size 432x288 with 1 Axes>"
      ]
     },
     "metadata": {
      "needs_background": "light"
     },
     "output_type": "display_data"
    },
    {
     "data": {
      "text/plain": [
       "<Figure size 576x576 with 0 Axes>"
      ]
     },
     "metadata": {},
     "output_type": "display_data"
    }
   ],
   "source": [
    "xgb.plot_importance(model)\n",
    "plt.figure(figsize=(8, 8))\n",
    "plt.show()"
   ]
  },
  {
   "cell_type": "code",
   "execution_count": 44,
   "id": "d1a8a6ae-0243-4793-9480-38b61a74bf77",
   "metadata": {},
   "outputs": [
    {
     "data": {
      "image/png": "[encoded data removed]",
      "text/plain": [
       "<Figure size 432x288 with 1 Axes>"
      ]
     },
     "metadata": {
      "needs_background": "light"
     },
     "output_type": "display_data"
    },
    {
     "data": {
      "text/plain": [
       "<Figure size 576x576 with 0 Axes>"
      ]
     },
     "metadata": {},
     "output_type": "display_data"
    }
   ],
   "source": [
    "xgb.plot_importance(model_classifier)\n",
    "plt.figure(figsize=(8,8))\n",
    "plt.show()"
   ]
  },
  {
   "cell_type": "code",
   "execution_count": null,
   "id": "a915b279-2980-4c9e-90cb-369143ed6e2a",
   "metadata": {},
   "outputs": [],
   "source": []
  }
 ],
 "metadata": {
  "kernelspec": {
   "display_name": "Python 3 (ipykernel)",
   "language": "python",
   "name": "python3"
  },
  "language_info": {
   "codemirror_mode": {
    "name": "ipython",
    "version": 3
   },
   "file_extension": ".py",
   "mimetype": "text/x-python",
   "name": "python",
   "nbconvert_exporter": "python",
   "pygments_lexer": "ipython3",
   "version": "3.9.7"
  }
 },
 "nbformat": 4,
 "nbformat_minor": 5
}
