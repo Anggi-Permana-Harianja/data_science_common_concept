{
 "cells": [
  {
   "cell_type": "markdown",
   "id": "ae0a115e-012e-49da-be81-70e5140e869e",
   "metadata": {},
   "source": [
    "# Example of Catboost usage\n",
    "\n",
    "Adapted from https://github.com/catboost/tutorials/blob/master/python_tutorial.ipynb "
   ]
  },
  {
   "cell_type": "code",
   "execution_count": 1,
   "id": "4c2186cc-1100-45f7-be59-610c236e24b1",
   "metadata": {},
   "outputs": [
    {
     "name": "stdout",
     "output_type": "stream",
     "text": [
      "Enabling notebook extension jupyter-js-widgets/extension...\n",
      "      - Validating: \u001b[32mOK\u001b[0m\n"
     ]
    }
   ],
   "source": [
    "'''\n",
    "always enable this extension everytime working with catboost\n",
    "'''\n",
    "!jupyter nbextension enable --py widgetsnbextension "
   ]
  },
  {
   "cell_type": "code",
   "execution_count": 31,
   "id": "27275b78-a920-4f2b-bd90-fae118b12e29",
   "metadata": {},
   "outputs": [],
   "source": [
    "from sklearn.model_selection import train_test_split\n",
    "from sklearn.metrics import accuracy_score\n",
    "\n",
    "from catboost import CatBoostClassifier, Pool, metrics, cv\n",
    "\n",
    "import pandas as pd\n",
    "import numpy as np\n",
    "\n",
    "import warnings\n",
    "warnings.filterwarnings('ignore')\n",
    "\n",
    "%matplotlib ipympl"
   ]
  },
  {
   "cell_type": "code",
   "execution_count": 3,
   "id": "337c47c6-4390-478b-969f-f3fe2fdf4316",
   "metadata": {},
   "outputs": [
    {
     "data": {
      "text/html": [
       "<div>\n",
       "<style scoped>\n",
       "    .dataframe tbody tr th:only-of-type {\n",
       "        vertical-align: middle;\n",
       "    }\n",
       "\n",
       "    .dataframe tbody tr th {\n",
       "        vertical-align: top;\n",
       "    }\n",
       "\n",
       "    .dataframe thead th {\n",
       "        text-align: right;\n",
       "    }\n",
       "</style>\n",
       "<table border=\"1\" class=\"dataframe\">\n",
       "  <thead>\n",
       "    <tr style=\"text-align: right;\">\n",
       "      <th></th>\n",
       "      <th>Unnamed: 0</th>\n",
       "      <th>PassengerId</th>\n",
       "      <th>Survived</th>\n",
       "      <th>Pclass</th>\n",
       "      <th>Name</th>\n",
       "      <th>Sex</th>\n",
       "      <th>Age</th>\n",
       "      <th>SibSp</th>\n",
       "      <th>Parch</th>\n",
       "      <th>Ticket</th>\n",
       "      <th>Fare</th>\n",
       "      <th>Cabin</th>\n",
       "      <th>Embarked</th>\n",
       "    </tr>\n",
       "  </thead>\n",
       "  <tbody>\n",
       "    <tr>\n",
       "      <th>0</th>\n",
       "      <td>0</td>\n",
       "      <td>1</td>\n",
       "      <td>0.0</td>\n",
       "      <td>3</td>\n",
       "      <td>Braund, Mr. Owen Harris</td>\n",
       "      <td>male</td>\n",
       "      <td>22.0</td>\n",
       "      <td>1</td>\n",
       "      <td>0</td>\n",
       "      <td>A/5 21171</td>\n",
       "      <td>7.2500</td>\n",
       "      <td>NaN</td>\n",
       "      <td>S</td>\n",
       "    </tr>\n",
       "    <tr>\n",
       "      <th>1</th>\n",
       "      <td>1</td>\n",
       "      <td>2</td>\n",
       "      <td>1.0</td>\n",
       "      <td>1</td>\n",
       "      <td>Cumings, Mrs. John Bradley (Florence Briggs Th...</td>\n",
       "      <td>female</td>\n",
       "      <td>38.0</td>\n",
       "      <td>1</td>\n",
       "      <td>0</td>\n",
       "      <td>PC 17599</td>\n",
       "      <td>71.2833</td>\n",
       "      <td>C85</td>\n",
       "      <td>C</td>\n",
       "    </tr>\n",
       "    <tr>\n",
       "      <th>2</th>\n",
       "      <td>2</td>\n",
       "      <td>3</td>\n",
       "      <td>1.0</td>\n",
       "      <td>3</td>\n",
       "      <td>Heikkinen, Miss. Laina</td>\n",
       "      <td>female</td>\n",
       "      <td>26.0</td>\n",
       "      <td>0</td>\n",
       "      <td>0</td>\n",
       "      <td>STON/O2. 3101282</td>\n",
       "      <td>7.9250</td>\n",
       "      <td>NaN</td>\n",
       "      <td>S</td>\n",
       "    </tr>\n",
       "    <tr>\n",
       "      <th>3</th>\n",
       "      <td>3</td>\n",
       "      <td>4</td>\n",
       "      <td>1.0</td>\n",
       "      <td>1</td>\n",
       "      <td>Futrelle, Mrs. Jacques Heath (Lily May Peel)</td>\n",
       "      <td>female</td>\n",
       "      <td>35.0</td>\n",
       "      <td>1</td>\n",
       "      <td>0</td>\n",
       "      <td>113803</td>\n",
       "      <td>53.1000</td>\n",
       "      <td>C123</td>\n",
       "      <td>S</td>\n",
       "    </tr>\n",
       "    <tr>\n",
       "      <th>4</th>\n",
       "      <td>4</td>\n",
       "      <td>5</td>\n",
       "      <td>0.0</td>\n",
       "      <td>3</td>\n",
       "      <td>Allen, Mr. William Henry</td>\n",
       "      <td>male</td>\n",
       "      <td>35.0</td>\n",
       "      <td>0</td>\n",
       "      <td>0</td>\n",
       "      <td>373450</td>\n",
       "      <td>8.0500</td>\n",
       "      <td>NaN</td>\n",
       "      <td>S</td>\n",
       "    </tr>\n",
       "  </tbody>\n",
       "</table>\n",
       "</div>"
      ],
      "text/plain": [
       "   Unnamed: 0  PassengerId  Survived  Pclass  \\\n",
       "0           0            1       0.0       3   \n",
       "1           1            2       1.0       1   \n",
       "2           2            3       1.0       3   \n",
       "3           3            4       1.0       1   \n",
       "4           4            5       0.0       3   \n",
       "\n",
       "                                                Name     Sex   Age  SibSp  \\\n",
       "0                            Braund, Mr. Owen Harris    male  22.0      1   \n",
       "1  Cumings, Mrs. John Bradley (Florence Briggs Th...  female  38.0      1   \n",
       "2                             Heikkinen, Miss. Laina  female  26.0      0   \n",
       "3       Futrelle, Mrs. Jacques Heath (Lily May Peel)  female  35.0      1   \n",
       "4                           Allen, Mr. William Henry    male  35.0      0   \n",
       "\n",
       "   Parch            Ticket     Fare Cabin Embarked  \n",
       "0      0         A/5 21171   7.2500   NaN        S  \n",
       "1      0          PC 17599  71.2833   C85        C  \n",
       "2      0  STON/O2. 3101282   7.9250   NaN        S  \n",
       "3      0            113803  53.1000  C123        S  \n",
       "4      0            373450   8.0500   NaN        S  "
      ]
     },
     "execution_count": 3,
     "metadata": {},
     "output_type": "execute_result"
    }
   ],
   "source": [
    "df = pd.read_csv('../data/titanic.csv')\n",
    "df.head()"
   ]
  },
  {
   "cell_type": "code",
   "execution_count": 4,
   "id": "864ea4ae-dd71-49e5-950e-a1d79abd32be",
   "metadata": {},
   "outputs": [
    {
     "data": {
      "text/plain": [
       "Unnamed: 0        0\n",
       "PassengerId       0\n",
       "Survived        418\n",
       "Pclass            0\n",
       "Name              0\n",
       "Sex               0\n",
       "Age             263\n",
       "SibSp             0\n",
       "Parch             0\n",
       "Ticket            0\n",
       "Fare              1\n",
       "Cabin          1014\n",
       "Embarked          2\n",
       "dtype: int64"
      ]
     },
     "execution_count": 4,
     "metadata": {},
     "output_type": "execute_result"
    }
   ],
   "source": [
    "'''\n",
    "null value stats\n",
    "'''\n",
    "null_value_stats = df.isnull().sum(axis=0)\n",
    "null_value_stats"
   ]
  },
  {
   "cell_type": "code",
   "execution_count": 5,
   "id": "581d0c31-99c8-4f63-a2ea-ced203172580",
   "metadata": {},
   "outputs": [
    {
     "data": {
      "text/plain": [
       "Survived     418\n",
       "Age          263\n",
       "Fare           1\n",
       "Cabin       1014\n",
       "Embarked       2\n",
       "dtype: int64"
      ]
     },
     "execution_count": 5,
     "metadata": {},
     "output_type": "execute_result"
    }
   ],
   "source": [
    "null_value_stats[null_value_stats != 0]"
   ]
  },
  {
   "cell_type": "code",
   "execution_count": 6,
   "id": "5d711f81-99ce-44fa-bdf1-71dbd509a497",
   "metadata": {},
   "outputs": [],
   "source": [
    "'''\n",
    "train test split\n",
    "'''\n",
    "X = df.drop('Survived', axis='columns')\n",
    "y = df.Survived\n",
    "X.fillna(-999, inplace=True)\n",
    "y.fillna(0, inplace=True)\n",
    "X_train, X_validation, y_train, y_validation = train_test_split(X, y, \n",
    "                                                                train_size=0.75,\n",
    "                                                                random_state=42)"
   ]
  },
  {
   "cell_type": "code",
   "execution_count": 7,
   "id": "b71861fa-263d-40aa-8b7d-0ea87275f420",
   "metadata": {},
   "outputs": [
    {
     "data": {
      "text/plain": [
       "array([ 0,  1,  2,  3,  4,  6,  7,  8, 10, 11])"
      ]
     },
     "execution_count": 7,
     "metadata": {},
     "output_type": "execute_result"
    }
   ],
   "source": [
    "'''\n",
    "list categorical features (catboost needs the indexes instead col names)\n",
    "'''\n",
    "#cat_features_indices = np.where((X.dtypes != float) & (X.dtypes != int))[0] #we dont use this line because sometimes categorical function is encoded in int\n",
    "cat_features_indices = np.where(X.dtypes != float)[0]\n",
    "cat_features_indices"
   ]
  },
  {
   "cell_type": "markdown",
   "id": "63651e76-5b87-4467-9998-8f29cc3e9b66",
   "metadata": {},
   "source": [
    "***"
   ]
  },
  {
   "cell_type": "markdown",
   "id": "f31c1cab-e8cd-43ca-9132-682cc7b3cf7f",
   "metadata": {},
   "source": [
    "### CatBoost basics"
   ]
  },
  {
   "cell_type": "code",
   "execution_count": 9,
   "id": "82c58d73-4ed5-4188-a209-71f91bb3ae4a",
   "metadata": {},
   "outputs": [],
   "source": [
    "params = {'custom_loss': [metrics.Accuracy()], \n",
    "          'random_seed': 42, \n",
    "          'logging_level': 'Silent'}\n",
    "model = CatBoostClassifier(**params)"
   ]
  },
  {
   "cell_type": "code",
   "execution_count": 10,
   "id": "446f1023-f09d-4758-9cca-f6c3aa581ff2",
   "metadata": {},
   "outputs": [
    {
     "data": {
      "application/vnd.jupyter.widget-view+json": {
       "model_id": "fd456186ab424094a8f0e36a6ac86bd7",
       "version_major": 2,
       "version_minor": 0
      },
      "text/plain": [
       "MetricVisualizer(layout=Layout(align_self='stretch', height='500px'))"
      ]
     },
     "metadata": {},
     "output_type": "display_data"
    },
    {
     "data": {
      "text/plain": [
       "<catboost.core.CatBoostClassifier at 0x7f85f8878ca0>"
      ]
     },
     "execution_count": 10,
     "metadata": {},
     "output_type": "execute_result"
    }
   ],
   "source": [
    "'''\n",
    "Important: Pool is a function in catboost that used as dataset processing and can also work as wrapper to simplify the code\n",
    "https://catboost.ai/en/docs/concepts/python-reference_pool\n",
    "'''\n",
    "train_pool = Pool(X_train, y_train, \n",
    "                  cat_features=cat_features_indices)\n",
    "validation_pool = Pool(X_validation, y_validation,\n",
    "                       cat_features=cat_features_indices)\n",
    "model.fit(train_pool,\n",
    "          eval_set=validation_pool, \n",
    "          plot=True)"
   ]
  },
  {
   "cell_type": "code",
   "execution_count": 11,
   "id": "e3cfbcde-4464-4aa3-81cc-e040d45a879d",
   "metadata": {},
   "outputs": [
    {
     "data": {
      "text/plain": [
       "{'learn': {'Accuracy': 0.9653414882772681, 'Logloss': 0.15794144834360274},\n",
       " 'validation': {'Accuracy': 0.8109756097560976, 'Logloss': 0.4474072552809534}}"
      ]
     },
     "execution_count": 11,
     "metadata": {},
     "output_type": "execute_result"
    }
   ],
   "source": [
    "model.best_score_"
   ]
  },
  {
   "cell_type": "code",
   "execution_count": 12,
   "id": "ab3a179c-12f1-489f-95b0-607217a7b625",
   "metadata": {},
   "outputs": [
    {
     "data": {
      "text/plain": [
       "371"
      ]
     },
     "execution_count": 12,
     "metadata": {},
     "output_type": "execute_result"
    }
   ],
   "source": [
    "model.best_iteration_"
   ]
  },
  {
   "cell_type": "code",
   "execution_count": 13,
   "id": "69814120-3a0c-467c-8d60-50b59d9a0668",
   "metadata": {},
   "outputs": [
    {
     "data": {
      "application/vnd.jupyter.widget-view+json": {
       "model_id": "c5f0d1e7c25d44ffabd2dbc05248c9c2",
       "version_major": 2,
       "version_minor": 0
      },
      "text/plain": [
       "MetricVisualizer(layout=Layout(align_self='stretch', height='500px'))"
      ]
     },
     "metadata": {},
     "output_type": "display_data"
    }
   ],
   "source": [
    "'''\n",
    "model crossvalidation\n",
    "'''\n",
    "cv_params = model.get_params()\n",
    "cv_params.update({\n",
    "    'loss_function': metrics.Logloss()\n",
    "})\n",
    "\n",
    "'''\n",
    "Important: Pool is a function in catboost that used as dataset processing and can also work as wrapper to simplify the code\n",
    "https://catboost.ai/en/docs/concepts/python-reference_pool\n",
    "'''\n",
    "cv_pool = Pool(X, y, cat_features=cat_features_indices)\n",
    "cv_data = cv(cv_pool, cv_params, nfold=3, shuffle=True, return_models=True, plot=True)"
   ]
  },
  {
   "cell_type": "code",
   "execution_count": 14,
   "id": "144aea6c-f8e0-4788-9d22-8a46cf1a2249",
   "metadata": {},
   "outputs": [
    {
     "name": "stdout",
     "output_type": "stream",
     "text": [
      "best validation score: 0.811  with standard deviation: 0.009  on step: 171\n"
     ]
    }
   ],
   "source": [
    "'''\n",
    "print scores\n",
    "'''\n",
    "print(f\"best validation score: {np.max(cv_data[0]['test-Accuracy-mean']):.3f} \\\n",
    " with standard deviation: {np.max(cv_data[0]['test-Accuracy-std'][np.argmax(cv_data[0]['test-Accuracy-mean'])]):.3f} \\\n",
    " on step: {np.argmax(cv_data[0]['test-Accuracy-mean'])}\")"
   ]
  },
  {
   "cell_type": "markdown",
   "id": "d2366a40-ced5-4714-a315-31e97dbb945d",
   "metadata": {},
   "source": [
    "***"
   ]
  },
  {
   "cell_type": "markdown",
   "id": "4b36c671-3fdc-4cbb-8d65-cc920bb72ee8",
   "metadata": {},
   "source": [
    "### Model applying"
   ]
  },
  {
   "cell_type": "code",
   "execution_count": 15,
   "id": "ec834af7-614d-40e3-b0b6-9d0c8275cd39",
   "metadata": {},
   "outputs": [
    {
     "name": "stdout",
     "output_type": "stream",
     "text": [
      "[0. 0. 0. 0. 1. 0. 1. 1. 0. 0.]\n",
      "[[0.97965556 0.02034444]\n",
      " [0.69622263 0.30377737]\n",
      " [0.89913763 0.10086237]\n",
      " [0.87501596 0.12498404]\n",
      " [0.4502423  0.5497577 ]\n",
      " [0.58115197 0.41884803]\n",
      " [0.4502423  0.5497577 ]\n",
      " [0.33616123 0.66383877]\n",
      " [0.69314912 0.30685088]\n",
      " [0.73590357 0.26409643]]\n"
     ]
    }
   ],
   "source": [
    "predictions = model.predict(X_validation)\n",
    "predictions_probs = model.predict_proba(X_validation)\n",
    "print(predictions[:10])\n",
    "print(predictions_probs[:10])"
   ]
  },
  {
   "cell_type": "markdown",
   "id": "7411c63d-9376-4470-99ac-70b06369e1db",
   "metadata": {},
   "source": [
    "***"
   ]
  },
  {
   "cell_type": "markdown",
   "id": "53a6e47a-413b-4c5b-84f6-917ae4705152",
   "metadata": {},
   "source": [
    "### CatBoost features"
   ]
  },
  {
   "cell_type": "code",
   "execution_count": 16,
   "id": "a7b0c289-e07b-49c0-9dc4-3f64989ebde0",
   "metadata": {},
   "outputs": [],
   "source": [
    "params = {'iterations': 100, \n",
    "          'learning_rate': 0.1, \n",
    "          'eval_metric': metrics.Accuracy(),\n",
    "          'logging_level': 'Silent', \n",
    "          'use_best_model': False}\n",
    "\n",
    "'''\n",
    "Important: Pool is a function in catboost that used as dataset processing and can also work as wrapper to simplify the code\n",
    "https://catboost.ai/en/docs/concepts/python-reference_pool\n",
    "'''\n",
    "train_pool = Pool(X_train, y_train, cat_features=cat_features_indices)\n",
    "validation_pool = Pool(X_validation, y_validation, cat_features=cat_features_indices)"
   ]
  },
  {
   "cell_type": "markdown",
   "id": "e136cfd8-05ae-4153-8fb6-e5a099d8a813",
   "metadata": {},
   "source": [
    "#### Use random seed on fit function"
   ]
  },
  {
   "cell_type": "code",
   "execution_count": 17,
   "id": "ef84ccd2-1329-4656-acd2-a92ac4187002",
   "metadata": {},
   "outputs": [
    {
     "name": "stdout",
     "output_type": "stream",
     "text": [
      "model without seed best score: 0.846 with steps: 80\n"
     ]
    }
   ],
   "source": [
    "model_without_seed = CatBoostClassifier(**params)\n",
    "model_without_seed.fit(train_pool, eval_set=validation_pool)\n",
    "print(f'model without seed best score: {model_without_seed.best_score_[\"learn\"][\"Accuracy\"]:.3f} with steps: {model_without_seed.best_iteration_}')"
   ]
  },
  {
   "cell_type": "code",
   "execution_count": 18,
   "id": "f5fa46d2-47c1-4cdc-b776-fd782751d71b",
   "metadata": {},
   "outputs": [
    {
     "name": "stdout",
     "output_type": "stream",
     "text": [
      "model with seed 42 best score: 0.844 with steps: 86\n"
     ]
    }
   ],
   "source": [
    "random_seed_params = params.copy()\n",
    "random_seed_params.update({'random_seed': 42})\n",
    "\n",
    "model_with_seed = CatBoostClassifier(**random_seed_params)\n",
    "model_with_seed.fit(train_pool, eval_set=validation_pool)\n",
    "print(f'model with seed 42 best score: {model_with_seed.best_score_[\"learn\"][\"Accuracy\"]:.3f} with steps: {model_with_seed.best_iteration_}')"
   ]
  },
  {
   "cell_type": "markdown",
   "id": "c7d59c2d-ad02-4179-bbde-c4617e2e55b6",
   "metadata": {},
   "source": [
    "#### Train model and compare between simple model and best model"
   ]
  },
  {
   "cell_type": "code",
   "execution_count": 19,
   "id": "b0cd17a8-3fef-47d7-a129-0a6194da5ab3",
   "metadata": {},
   "outputs": [
    {
     "name": "stdout",
     "output_type": "stream",
     "text": [
      "Simple model validation: 0.802\n"
     ]
    }
   ],
   "source": [
    "model = CatBoostClassifier(**params)\n",
    "model.fit(train_pool, eval_set=validation_pool)\n",
    "print(f'Simple model validation: {accuracy_score(y_validation, model.predict(X_validation)):.3f}')"
   ]
  },
  {
   "cell_type": "code",
   "execution_count": 20,
   "id": "c6a47110-71b9-4dce-a90d-66f80ff83d5e",
   "metadata": {},
   "outputs": [
    {
     "name": "stdout",
     "output_type": "stream",
     "text": [
      "Best model validation: 0.808\n"
     ]
    }
   ],
   "source": [
    "best_model_params = params.copy()\n",
    "best_model_params.update({'use_best_model': True})\n",
    "\n",
    "best_model = CatBoostClassifier(**best_model_params)\n",
    "best_model.fit(train_pool, eval_set=validation_pool)\n",
    "print(f'Best model validation: {accuracy_score(y_validation, best_model.predict(X_validation)):.3f}')"
   ]
  },
  {
   "cell_type": "markdown",
   "id": "7b33f2f2-86bf-4f8e-8a75-b6f5edca85b8",
   "metadata": {},
   "source": [
    "#### Train model and compare between simple model and early stoping model"
   ]
  },
  {
   "cell_type": "code",
   "execution_count": 21,
   "id": "43a419f1-7929-4313-ba5d-80bc0447ef3f",
   "metadata": {},
   "outputs": [
    {
     "name": "stdout",
     "output_type": "stream",
     "text": [
      "CPU times: user 4 µs, sys: 1 µs, total: 5 µs\n",
      "Wall time: 10 µs\n",
      "Simple model validation: 0.802\n"
     ]
    }
   ],
   "source": [
    "%time\n",
    "model = CatBoostClassifier(**params)\n",
    "model.fit(train_pool, eval_set=validation_pool)\n",
    "print(f'Simple model validation: {accuracy_score(y_validation, model.predict(X_validation)):.3f}')"
   ]
  },
  {
   "cell_type": "code",
   "execution_count": 22,
   "id": "d005326e-44fc-4ed1-b05e-44c5127b155b",
   "metadata": {},
   "outputs": [
    {
     "name": "stdout",
     "output_type": "stream",
     "text": [
      "CPU times: user 4 µs, sys: 1 µs, total: 5 µs\n",
      "Wall time: 10.3 µs\n",
      "Early stoping model validation: 0.802\n"
     ]
    }
   ],
   "source": [
    "%time\n",
    "early_stoping_params = params.copy()\n",
    "early_stoping_params.update({\n",
    "    'od_type': 'Iter',\n",
    "    'od_wait': 40})\n",
    "\n",
    "early_stoping_model = CatBoostClassifier(**early_stoping_params)\n",
    "early_stoping_model.fit(train_pool, eval_set=validation_pool)\n",
    "print(f'Early stoping model validation: {accuracy_score(y_validation, early_stoping_model.predict(X_validation)):.3f}')"
   ]
  },
  {
   "cell_type": "markdown",
   "id": "fe98a3b2-bf82-4be8-b007-214243abe09c",
   "metadata": {},
   "source": [
    "#### Snapshot support"
   ]
  },
  {
   "cell_type": "code",
   "execution_count": 23,
   "id": "3128ccc5-a8a0-45b4-9f43-eb834faffddf",
   "metadata": {},
   "outputs": [
    {
     "data": {
      "text/plain": [
       "<catboost.core.CatBoostClassifier at 0x7f85f7290760>"
      ]
     },
     "execution_count": 23,
     "metadata": {},
     "output_type": "execute_result"
    }
   ],
   "source": [
    "'''\n",
    "Catboost supports snapshots. \n",
    "You can use it for recovering training after an interruption or for starting training with previous results.\n",
    "'''\n",
    "model_with_snapshot = CatBoostClassifier(**params)\n",
    "model_with_snapshot.fit(train_pool, \n",
    "                        eval_set=validation_pool, \n",
    "                        save_snapshot=True)"
   ]
  },
  {
   "cell_type": "markdown",
   "id": "c9aed639-f60a-481a-9e8c-db1ae9ea8b0d",
   "metadata": {},
   "source": [
    "***"
   ]
  },
  {
   "cell_type": "markdown",
   "id": "39c27365-d8b2-4324-8962-4841d2087c36",
   "metadata": {},
   "source": [
    "### Feature importances"
   ]
  },
  {
   "cell_type": "code",
   "execution_count": 24,
   "id": "586d0ec7-1fc1-48f7-9ee9-b99d2a72038f",
   "metadata": {},
   "outputs": [
    {
     "name": "stdout",
     "output_type": "stream",
     "text": [
      "Sex: 35.68326654804635\n",
      "Unnamed: 0: 18.662296111508656\n",
      "Pclass: 9.077638681491615\n",
      "Age: 7.822145566688731\n",
      "Cabin: 6.2542593000164315\n",
      "Ticket: 6.102122076839929\n",
      "Parch: 4.81928912498079\n",
      "Fare: 4.339803117116453\n",
      "Embarked: 4.215511956697817\n",
      "SibSp: 3.023667516613263\n",
      "PassengerId: 0.0\n",
      "Name: 0.0\n"
     ]
    }
   ],
   "source": [
    "model = CatBoostClassifier(**params)\n",
    "model.fit(train_pool, \n",
    "          eval_set=validation_pool)\n",
    "\n",
    "feature_importances = model.get_feature_importance(train_pool)\n",
    "feature_names = X_train.columns\n",
    "\n",
    "for score, col_name in sorted(zip(feature_importances, feature_names), reverse=True):\n",
    "    print(f'{col_name}: {score}')"
   ]
  },
  {
   "cell_type": "markdown",
   "id": "8fa73d48-3832-4e43-aa73-5075a8bdd391",
   "metadata": {},
   "source": [
    "***"
   ]
  },
  {
   "cell_type": "markdown",
   "id": "f4045e63-30df-46e4-99b3-0982dc1d5d8f",
   "metadata": {},
   "source": [
    "### Eval metrics"
   ]
  },
  {
   "cell_type": "code",
   "execution_count": 25,
   "id": "e30566fc-4bc4-4685-b1d4-f83cd0f0870e",
   "metadata": {},
   "outputs": [
    {
     "data": {
      "application/vnd.jupyter.widget-view+json": {
       "model_id": "139fb0ac62624e8598c22cc796033ed5",
       "version_major": 2,
       "version_minor": 0
      },
      "text/plain": [
       "MetricVisualizer(layout=Layout(align_self='stretch', height='500px'))"
      ]
     },
     "metadata": {},
     "output_type": "display_data"
    }
   ],
   "source": [
    "model = CatBoostClassifier(**params)\n",
    "model.fit(train_pool, eval_set=validation_pool)\n",
    "\n",
    "'''\n",
    "We are using two metrices, please be aware that there is tab\n",
    "to switch between two\n",
    "'''\n",
    "eval_metrics = model.eval_metrics(validation_pool, [metrics.AUC(), metrics.Accuracy()], plot=True)"
   ]
  },
  {
   "cell_type": "code",
   "execution_count": 26,
   "id": "e6c7f702-9c13-46d7-b284-62eaf3073765",
   "metadata": {},
   "outputs": [
    {
     "name": "stdout",
     "output_type": "stream",
     "text": [
      "[0.7874613566102928, 0.7864384433533369, 0.7949399890889253, 0.7960992907801419, 0.799827241316603, 0.797372249499909]\n",
      "[0.774390243902439, 0.774390243902439, 0.774390243902439, 0.774390243902439, 0.7469512195121951, 0.7439024390243902]\n"
     ]
    }
   ],
   "source": [
    "print(eval_metrics['AUC'][:6])\n",
    "print(eval_metrics['Accuracy'][:6])"
   ]
  },
  {
   "cell_type": "markdown",
   "id": "1ff8fde8-dcf7-4bba-af1b-8237cdf2d9fc",
   "metadata": {},
   "source": [
    "***"
   ]
  },
  {
   "cell_type": "markdown",
   "id": "143c4260-6479-409a-8eba-8e8213793432",
   "metadata": {},
   "source": [
    "### Learning processes comparison"
   ]
  },
  {
   "cell_type": "code",
   "execution_count": 27,
   "id": "aa8a8c9d-87b5-45f6-a6cd-c792495322d1",
   "metadata": {},
   "outputs": [],
   "source": [
    "depth1_params = params.copy()\n",
    "depth1_params.update({\n",
    "    'depth': 1,\n",
    "    'train_dir': 'model_depth1/', \n",
    "    'logging_level': 'Silent'})\n",
    "model_depth1 = CatBoostClassifier(**depth1_params).fit(train_pool, eval_set=validation_pool)\n",
    "depth5_params = params.copy()\n",
    "depth5_params.update({\n",
    "    'depth': 5,\n",
    "    'train_dir': 'model_depth5/', \n",
    "    'logging_level': 'Silent'})\n",
    "model_depth5 = CatBoostClassifier(**depth5_params).fit(train_pool, eval_set=validation_pool)"
   ]
  },
  {
   "cell_type": "code",
   "execution_count": 28,
   "id": "79d64580-3017-409b-97e0-a2d981d60eaf",
   "metadata": {},
   "outputs": [
    {
     "data": {
      "application/vnd.jupyter.widget-view+json": {
       "model_id": "882f7ee2dce340b1a4ff9eee6e6a2c0c",
       "version_major": 2,
       "version_minor": 0
      },
      "text/plain": [
       "MetricVisualizer(layout=Layout(align_self='stretch', height='500px'))"
      ]
     },
     "metadata": {},
     "output_type": "display_data"
    }
   ],
   "source": [
    "from catboost import MetricVisualizer\n",
    "widget = MetricVisualizer(['model_depth1', 'model_depth5'])\n",
    "widget.start()"
   ]
  },
  {
   "cell_type": "markdown",
   "id": "7a554774-0e71-450a-b67a-f96c9581f93e",
   "metadata": {},
   "source": [
    "***"
   ]
  },
  {
   "cell_type": "markdown",
   "id": "de56e6ea-1913-4931-b31a-4f1146c25e93",
   "metadata": {},
   "source": [
    "### Model saving"
   ]
  },
  {
   "cell_type": "code",
   "execution_count": 30,
   "id": "1b938668-1517-48e7-a5a2-4f39cbb39d7f",
   "metadata": {},
   "outputs": [],
   "source": [
    "'''\n",
    "saving model\n",
    "'''\n",
    "model = CatBoostClassifier(iterations=10, random_seed=42, logging_level='Silent').fit(train_pool)\n",
    "model.save_model('./catboost_model.dump')\n",
    "'''\n",
    "load model\n",
    "'''\n",
    "model = CatBoostClassifier()\n",
    "model.load_model('./catboost_model.dump');"
   ]
  }
 ],
 "metadata": {
  "kernelspec": {
   "display_name": "Python 3 (ipykernel)",
   "language": "python",
   "name": "python3"
  },
  "language_info": {
   "codemirror_mode": {
    "name": "ipython",
    "version": 3
   },
   "file_extension": ".py",
   "mimetype": "text/x-python",
   "name": "python",
   "nbconvert_exporter": "python",
   "pygments_lexer": "ipython3",
   "version": "3.9.7"
  }
 },
 "nbformat": 4,
 "nbformat_minor": 5
}
